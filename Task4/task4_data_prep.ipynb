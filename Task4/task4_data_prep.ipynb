{
 "cells": [
  {
   "cell_type": "code",
   "execution_count": 17,
   "id": "6730cd1f-19ba-4cb8-9c64-4bbe9b5e73a3",
   "metadata": {},
   "outputs": [
    {
     "name": "stdout",
     "output_type": "stream",
     "text": [
      "<class 'pandas.core.frame.DataFrame'>\n",
      "RangeIndex: 64374 entries, 0 to 64373\n",
      "Data columns (total 12 columns):\n",
      " #   Column             Non-Null Count  Dtype  \n",
      "---  ------             --------------  -----  \n",
      " 0   CustomerID         64374 non-null  int64  \n",
      " 1   Age                63087 non-null  float64\n",
      " 2   Gender             64374 non-null  object \n",
      " 3   Tenure             63087 non-null  float64\n",
      " 4   Usage Frequency    64374 non-null  int64  \n",
      " 5   Support Calls      64374 non-null  int64  \n",
      " 6   Payment Delay      63087 non-null  float64\n",
      " 7   Subscription Type  64374 non-null  object \n",
      " 8   Contract Length    64374 non-null  object \n",
      " 9   Total Spend        63087 non-null  float64\n",
      " 10  Last Interaction   64374 non-null  int64  \n",
      " 11  Churn              64374 non-null  int64  \n",
      "dtypes: float64(4), int64(5), object(3)\n",
      "memory usage: 5.9+ MB\n"
     ]
    },
    {
     "data": {
      "text/plain": [
       "Churn\n",
       "0    33881\n",
       "1    30493\n",
       "Name: count, dtype: int64"
      ]
     },
     "execution_count": 17,
     "metadata": {},
     "output_type": "execute_result"
    }
   ],
   "source": [
    "import pandas as pd\n",
    "\n",
    "df = pd.read_csv(\"C:/Users/Hxtreme/Downloads/churn_dataset.csv\")\n",
    "df.head()\n",
    "df.info()\n",
    "df.describe()\n",
    "df['Churn'].value_counts()"
   ]
  },
  {
   "cell_type": "code",
   "execution_count": 18,
   "id": "75d6062c-cb9b-4a82-b592-d86e0977eb26",
   "metadata": {},
   "outputs": [
    {
     "name": "stdout",
     "output_type": "stream",
     "text": [
      "Count of each class:\n",
      "Churn\n",
      "0    33881\n",
      "1    30493\n",
      "Name: count, dtype: int64\n",
      "\n",
      "Number of 0s: 33881\n",
      "Number of 1s: 30493\n"
     ]
    }
   ],
   "source": [
    "target_counts = df['Churn'].value_counts()\n",
    "\n",
    "print(\"Count of each class:\")\n",
    "print(target_counts)\n",
    "\n",
    "print(f\"\\nNumber of 0s: {target_counts.get(0, 0)}\")\n",
    "print(f\"Number of 1s: {target_counts.get(1, 0)}\")"
   ]
  },
  {
   "cell_type": "code",
   "execution_count": 19,
   "id": "af0e0126-30dc-443e-908e-7c35aae98657",
   "metadata": {},
   "outputs": [
    {
     "data": {
      "text/plain": [
       "CustomerID              0\n",
       "Age                  1287\n",
       "Gender                  0\n",
       "Tenure               1287\n",
       "Usage Frequency         0\n",
       "Support Calls           0\n",
       "Payment Delay        1287\n",
       "Subscription Type       0\n",
       "Contract Length         0\n",
       "Total Spend          1287\n",
       "Last Interaction        0\n",
       "Churn                   0\n",
       "dtype: int64"
      ]
     },
     "execution_count": 19,
     "metadata": {},
     "output_type": "execute_result"
    }
   ],
   "source": [
    "df.isnull().sum()"
   ]
  },
  {
   "cell_type": "code",
   "execution_count": 20,
   "id": "7f778ce8-df01-49e9-85e5-64e329187069",
   "metadata": {},
   "outputs": [
    {
     "name": "stderr",
     "output_type": "stream",
     "text": [
      "C:\\Users\\Hxtreme\\AppData\\Local\\Temp\\ipykernel_12728\\2680725908.py:1: FutureWarning: A value is trying to be set on a copy of a DataFrame or Series through chained assignment using an inplace method.\n",
      "The behavior will change in pandas 3.0. This inplace method will never work because the intermediate object on which we are setting values always behaves as a copy.\n",
      "\n",
      "For example, when doing 'df[col].method(value, inplace=True)', try using 'df.method({col: value}, inplace=True)' or df[col] = df[col].method(value) instead, to perform the operation inplace on the original object.\n",
      "\n",
      "\n",
      "  df['Age'].fillna(df['Age'].median(), inplace=True)\n",
      "C:\\Users\\Hxtreme\\AppData\\Local\\Temp\\ipykernel_12728\\2680725908.py:2: FutureWarning: A value is trying to be set on a copy of a DataFrame or Series through chained assignment using an inplace method.\n",
      "The behavior will change in pandas 3.0. This inplace method will never work because the intermediate object on which we are setting values always behaves as a copy.\n",
      "\n",
      "For example, when doing 'df[col].method(value, inplace=True)', try using 'df.method({col: value}, inplace=True)' or df[col] = df[col].method(value) instead, to perform the operation inplace on the original object.\n",
      "\n",
      "\n",
      "  df['Tenure'].fillna(df['Tenure'].median(), inplace=True)\n",
      "C:\\Users\\Hxtreme\\AppData\\Local\\Temp\\ipykernel_12728\\2680725908.py:3: FutureWarning: A value is trying to be set on a copy of a DataFrame or Series through chained assignment using an inplace method.\n",
      "The behavior will change in pandas 3.0. This inplace method will never work because the intermediate object on which we are setting values always behaves as a copy.\n",
      "\n",
      "For example, when doing 'df[col].method(value, inplace=True)', try using 'df.method({col: value}, inplace=True)' or df[col] = df[col].method(value) instead, to perform the operation inplace on the original object.\n",
      "\n",
      "\n",
      "  df['Payment Delay'].fillna(df['Payment Delay'].mean(), inplace=True)\n",
      "C:\\Users\\Hxtreme\\AppData\\Local\\Temp\\ipykernel_12728\\2680725908.py:4: FutureWarning: A value is trying to be set on a copy of a DataFrame or Series through chained assignment using an inplace method.\n",
      "The behavior will change in pandas 3.0. This inplace method will never work because the intermediate object on which we are setting values always behaves as a copy.\n",
      "\n",
      "For example, when doing 'df[col].method(value, inplace=True)', try using 'df.method({col: value}, inplace=True)' or df[col] = df[col].method(value) instead, to perform the operation inplace on the original object.\n",
      "\n",
      "\n",
      "  df['Total Spend'].fillna(df['Total Spend'].median(), inplace=True)\n"
     ]
    }
   ],
   "source": [
    "df['Age'].fillna(df['Age'].median(), inplace=True)\n",
    "df['Tenure'].fillna(df['Tenure'].median(), inplace=True)\n",
    "df['Payment Delay'].fillna(df['Payment Delay'].mean(), inplace=True)\n",
    "df['Total Spend'].fillna(df['Total Spend'].median(), inplace=True)"
   ]
  },
  {
   "cell_type": "code",
   "execution_count": 21,
   "id": "33731e0b-ac2a-4b48-bd7f-0052d4eb5f7d",
   "metadata": {},
   "outputs": [
    {
     "data": {
      "text/plain": [
       "CustomerID             int64\n",
       "Age                  float64\n",
       "Gender                object\n",
       "Tenure               float64\n",
       "Usage Frequency        int64\n",
       "Support Calls          int64\n",
       "Payment Delay        float64\n",
       "Subscription Type     object\n",
       "Contract Length       object\n",
       "Total Spend          float64\n",
       "Last Interaction       int64\n",
       "Churn                  int64\n",
       "dtype: object"
      ]
     },
     "execution_count": 21,
     "metadata": {},
     "output_type": "execute_result"
    }
   ],
   "source": [
    "df.dtypes"
   ]
  },
  {
   "cell_type": "code",
   "execution_count": 22,
   "id": "718650a1-53f1-4606-8265-5a6454229dcc",
   "metadata": {},
   "outputs": [
    {
     "data": {
      "text/plain": [
       "CustomerID           64374\n",
       "Age                     48\n",
       "Gender                   2\n",
       "Tenure                  60\n",
       "Usage Frequency         30\n",
       "Support Calls           11\n",
       "Payment Delay           32\n",
       "Subscription Type        3\n",
       "Contract Length          3\n",
       "Total Spend            901\n",
       "Last Interaction        30\n",
       "Churn                    2\n",
       "dtype: int64"
      ]
     },
     "execution_count": 22,
     "metadata": {},
     "output_type": "execute_result"
    }
   ],
   "source": [
    "# finding unique values in each column\n",
    "df.nunique()"
   ]
  },
  {
   "cell_type": "code",
   "execution_count": 23,
   "id": "11bc15c9-fadd-4921-9476-4741ecad35d1",
   "metadata": {},
   "outputs": [
    {
     "data": {
      "text/html": [
       "<div>\n",
       "<style scoped>\n",
       "    .dataframe tbody tr th:only-of-type {\n",
       "        vertical-align: middle;\n",
       "    }\n",
       "\n",
       "    .dataframe tbody tr th {\n",
       "        vertical-align: top;\n",
       "    }\n",
       "\n",
       "    .dataframe thead th {\n",
       "        text-align: right;\n",
       "    }\n",
       "</style>\n",
       "<table border=\"1\" class=\"dataframe\">\n",
       "  <thead>\n",
       "    <tr style=\"text-align: right;\">\n",
       "      <th></th>\n",
       "      <th>Age</th>\n",
       "      <th>Gender</th>\n",
       "      <th>Tenure</th>\n",
       "      <th>Usage Frequency</th>\n",
       "      <th>Support Calls</th>\n",
       "      <th>Payment Delay</th>\n",
       "      <th>Subscription Type</th>\n",
       "      <th>Contract Length</th>\n",
       "      <th>Total Spend</th>\n",
       "      <th>Last Interaction</th>\n",
       "      <th>Churn</th>\n",
       "    </tr>\n",
       "  </thead>\n",
       "  <tbody>\n",
       "    <tr>\n",
       "      <th>0</th>\n",
       "      <td>22.0</td>\n",
       "      <td>Female</td>\n",
       "      <td>25.0</td>\n",
       "      <td>14</td>\n",
       "      <td>4</td>\n",
       "      <td>27.0</td>\n",
       "      <td>Basic</td>\n",
       "      <td>Monthly</td>\n",
       "      <td>598.0</td>\n",
       "      <td>9</td>\n",
       "      <td>1</td>\n",
       "    </tr>\n",
       "    <tr>\n",
       "      <th>1</th>\n",
       "      <td>41.0</td>\n",
       "      <td>Female</td>\n",
       "      <td>28.0</td>\n",
       "      <td>28</td>\n",
       "      <td>7</td>\n",
       "      <td>13.0</td>\n",
       "      <td>Standard</td>\n",
       "      <td>Monthly</td>\n",
       "      <td>584.0</td>\n",
       "      <td>20</td>\n",
       "      <td>0</td>\n",
       "    </tr>\n",
       "    <tr>\n",
       "      <th>2</th>\n",
       "      <td>47.0</td>\n",
       "      <td>Male</td>\n",
       "      <td>27.0</td>\n",
       "      <td>10</td>\n",
       "      <td>2</td>\n",
       "      <td>29.0</td>\n",
       "      <td>Premium</td>\n",
       "      <td>Annual</td>\n",
       "      <td>757.0</td>\n",
       "      <td>21</td>\n",
       "      <td>0</td>\n",
       "    </tr>\n",
       "    <tr>\n",
       "      <th>3</th>\n",
       "      <td>35.0</td>\n",
       "      <td>Male</td>\n",
       "      <td>9.0</td>\n",
       "      <td>12</td>\n",
       "      <td>5</td>\n",
       "      <td>17.0</td>\n",
       "      <td>Premium</td>\n",
       "      <td>Quarterly</td>\n",
       "      <td>232.0</td>\n",
       "      <td>18</td>\n",
       "      <td>0</td>\n",
       "    </tr>\n",
       "    <tr>\n",
       "      <th>4</th>\n",
       "      <td>53.0</td>\n",
       "      <td>Female</td>\n",
       "      <td>58.0</td>\n",
       "      <td>24</td>\n",
       "      <td>9</td>\n",
       "      <td>2.0</td>\n",
       "      <td>Standard</td>\n",
       "      <td>Annual</td>\n",
       "      <td>533.0</td>\n",
       "      <td>18</td>\n",
       "      <td>0</td>\n",
       "    </tr>\n",
       "    <tr>\n",
       "      <th>...</th>\n",
       "      <td>...</td>\n",
       "      <td>...</td>\n",
       "      <td>...</td>\n",
       "      <td>...</td>\n",
       "      <td>...</td>\n",
       "      <td>...</td>\n",
       "      <td>...</td>\n",
       "      <td>...</td>\n",
       "      <td>...</td>\n",
       "      <td>...</td>\n",
       "      <td>...</td>\n",
       "    </tr>\n",
       "    <tr>\n",
       "      <th>64369</th>\n",
       "      <td>45.0</td>\n",
       "      <td>Female</td>\n",
       "      <td>33.0</td>\n",
       "      <td>12</td>\n",
       "      <td>6</td>\n",
       "      <td>21.0</td>\n",
       "      <td>Basic</td>\n",
       "      <td>Quarterly</td>\n",
       "      <td>947.0</td>\n",
       "      <td>14</td>\n",
       "      <td>1</td>\n",
       "    </tr>\n",
       "    <tr>\n",
       "      <th>64370</th>\n",
       "      <td>37.0</td>\n",
       "      <td>Male</td>\n",
       "      <td>6.0</td>\n",
       "      <td>1</td>\n",
       "      <td>5</td>\n",
       "      <td>22.0</td>\n",
       "      <td>Standard</td>\n",
       "      <td>Annual</td>\n",
       "      <td>923.0</td>\n",
       "      <td>9</td>\n",
       "      <td>1</td>\n",
       "    </tr>\n",
       "    <tr>\n",
       "      <th>64371</th>\n",
       "      <td>25.0</td>\n",
       "      <td>Male</td>\n",
       "      <td>39.0</td>\n",
       "      <td>14</td>\n",
       "      <td>8</td>\n",
       "      <td>30.0</td>\n",
       "      <td>Premium</td>\n",
       "      <td>Monthly</td>\n",
       "      <td>327.0</td>\n",
       "      <td>20</td>\n",
       "      <td>1</td>\n",
       "    </tr>\n",
       "    <tr>\n",
       "      <th>64372</th>\n",
       "      <td>50.0</td>\n",
       "      <td>Female</td>\n",
       "      <td>18.0</td>\n",
       "      <td>19</td>\n",
       "      <td>7</td>\n",
       "      <td>22.0</td>\n",
       "      <td>Standard</td>\n",
       "      <td>Monthly</td>\n",
       "      <td>540.0</td>\n",
       "      <td>13</td>\n",
       "      <td>1</td>\n",
       "    </tr>\n",
       "    <tr>\n",
       "      <th>64373</th>\n",
       "      <td>52.0</td>\n",
       "      <td>Female</td>\n",
       "      <td>45.0</td>\n",
       "      <td>15</td>\n",
       "      <td>9</td>\n",
       "      <td>25.0</td>\n",
       "      <td>Standard</td>\n",
       "      <td>Monthly</td>\n",
       "      <td>696.0</td>\n",
       "      <td>22</td>\n",
       "      <td>1</td>\n",
       "    </tr>\n",
       "  </tbody>\n",
       "</table>\n",
       "<p>64374 rows × 11 columns</p>\n",
       "</div>"
      ],
      "text/plain": [
       "        Age  Gender  Tenure  Usage Frequency  Support Calls  Payment Delay  \\\n",
       "0      22.0  Female    25.0               14              4           27.0   \n",
       "1      41.0  Female    28.0               28              7           13.0   \n",
       "2      47.0    Male    27.0               10              2           29.0   \n",
       "3      35.0    Male     9.0               12              5           17.0   \n",
       "4      53.0  Female    58.0               24              9            2.0   \n",
       "...     ...     ...     ...              ...            ...            ...   \n",
       "64369  45.0  Female    33.0               12              6           21.0   \n",
       "64370  37.0    Male     6.0                1              5           22.0   \n",
       "64371  25.0    Male    39.0               14              8           30.0   \n",
       "64372  50.0  Female    18.0               19              7           22.0   \n",
       "64373  52.0  Female    45.0               15              9           25.0   \n",
       "\n",
       "      Subscription Type Contract Length  Total Spend  Last Interaction  Churn  \n",
       "0                 Basic         Monthly        598.0                 9      1  \n",
       "1              Standard         Monthly        584.0                20      0  \n",
       "2               Premium          Annual        757.0                21      0  \n",
       "3               Premium       Quarterly        232.0                18      0  \n",
       "4              Standard          Annual        533.0                18      0  \n",
       "...                 ...             ...          ...               ...    ...  \n",
       "64369             Basic       Quarterly        947.0                14      1  \n",
       "64370          Standard          Annual        923.0                 9      1  \n",
       "64371           Premium         Monthly        327.0                20      1  \n",
       "64372          Standard         Monthly        540.0                13      1  \n",
       "64373          Standard         Monthly        696.0                22      1  \n",
       "\n",
       "[64374 rows x 11 columns]"
      ]
     },
     "execution_count": 23,
     "metadata": {},
     "output_type": "execute_result"
    }
   ],
   "source": [
    "df = df.drop(columns = ['CustomerID'], axis = 1)\n",
    "df"
   ]
  },
  {
   "cell_type": "code",
   "execution_count": 24,
   "id": "ee5a298a-e5ed-4d8b-bb19-f5f6446c14d5",
   "metadata": {},
   "outputs": [],
   "source": [
    "from sklearn.preprocessing import LabelEncoder\n",
    "\n",
    "label_cols = ['Gender', 'Contract Length', 'Subscription Type']\n",
    "le = LabelEncoder()\n",
    "for col in label_cols:\n",
    "    df[col] = le.fit_transform(df[col].astype(str))\n"
   ]
  },
  {
   "cell_type": "code",
   "execution_count": 25,
   "id": "47dd3a3e-5e16-4e7b-9635-888257b73a7d",
   "metadata": {},
   "outputs": [
    {
     "name": "stdout",
     "output_type": "stream",
     "text": [
      "        Age  Gender  Tenure  Usage Frequency  Support Calls  Payment Delay  \\\n",
      "0      22.0       0    25.0               14              4           27.0   \n",
      "1      41.0       0    28.0               28              7           13.0   \n",
      "2      47.0       1    27.0               10              2           29.0   \n",
      "3      35.0       1     9.0               12              5           17.0   \n",
      "4      53.0       0    58.0               24              9            2.0   \n",
      "...     ...     ...     ...              ...            ...            ...   \n",
      "64369  45.0       0    33.0               12              6           21.0   \n",
      "64370  37.0       1     6.0                1              5           22.0   \n",
      "64371  25.0       1    39.0               14              8           30.0   \n",
      "64372  50.0       0    18.0               19              7           22.0   \n",
      "64373  52.0       0    45.0               15              9           25.0   \n",
      "\n",
      "       Subscription Type  Contract Length  Total Spend  Last Interaction  \\\n",
      "0                      0                1        598.0                 9   \n",
      "1                      2                1        584.0                20   \n",
      "2                      1                0        757.0                21   \n",
      "3                      1                2        232.0                18   \n",
      "4                      2                0        533.0                18   \n",
      "...                  ...              ...          ...               ...   \n",
      "64369                  0                2        947.0                14   \n",
      "64370                  2                0        923.0                 9   \n",
      "64371                  1                1        327.0                20   \n",
      "64372                  2                1        540.0                13   \n",
      "64373                  2                1        696.0                22   \n",
      "\n",
      "       Churn  \n",
      "0          1  \n",
      "1          0  \n",
      "2          0  \n",
      "3          0  \n",
      "4          0  \n",
      "...      ...  \n",
      "64369      1  \n",
      "64370      1  \n",
      "64371      1  \n",
      "64372      1  \n",
      "64373      1  \n",
      "\n",
      "[64374 rows x 11 columns]\n"
     ]
    }
   ],
   "source": [
    "# outlier code using iqr method\n",
    "# the code is about finding the outliers\n",
    "num_cols = ['Age', 'Tenure', 'Usage Frequency', 'Support Calls',\n",
    "            'Payment Delay', 'Total Spend']\n",
    "\n",
    "def remove_outliers_iqr(df, columns):\n",
    "    df_clean = df.copy()\n",
    "    for col in columns:\n",
    "        Q1 = df_clean[col].quantile(0.25)\n",
    "        Q3 = df_clean[col].quantile(0.75)\n",
    "        IQR = Q3 - Q1\n",
    "        lower_bound = Q1 - 1.5 * IQR\n",
    "        upper_bound = Q3 + 1.5 * IQR\n",
    "\n",
    "        df_clean = df_clean[(df_clean[col] >= lower_bound) & (df_clean[col] <= upper_bound)]\n",
    "\n",
    "    return df_clean\n",
    "\n",
    "# Apply outlier removal\n",
    "df_no_outliers = remove_outliers_iqr(df, num_cols)\n",
    "print(df_no_outliers)"
   ]
  },
  {
   "cell_type": "code",
   "execution_count": 26,
   "id": "875b5419-75ee-4431-87e0-4100fb5b88b7",
   "metadata": {},
   "outputs": [],
   "source": [
    "def classify_income(row):\n",
    "    if row['Total Spend'] > 1000: return 'High'\n",
    "    elif row['Total Spend'] > 700: return 'Medium'\n",
    "    else: return 'Low'\n",
    "\n",
    "df['Spend'] = df.apply(classify_income, axis=1).astype('category')\n"
   ]
  },
  {
   "cell_type": "code",
   "execution_count": 27,
   "id": "ae6882e1-4c1a-4bd4-b107-18c9939729e7",
   "metadata": {},
   "outputs": [],
   "source": [
    "df['Spend_zscore'] = df.groupby('Subscription Type')['Total Spend'].transform(\n",
    "    lambda x: (x - x.mean()) / x.std()\n",
    ")"
   ]
  },
  {
   "cell_type": "code",
   "execution_count": 28,
   "id": "1d111f7b-39f1-47dc-a981-0ea8b7af0905",
   "metadata": {},
   "outputs": [],
   "source": [
    "df.to_csv(\"cleaned_churn_data.csv\", index=False)"
   ]
  }
 ],
 "metadata": {
  "kernelspec": {
   "display_name": "Python 3 (ipykernel)",
   "language": "python",
   "name": "python3"
  },
  "language_info": {
   "codemirror_mode": {
    "name": "ipython",
    "version": 3
   },
   "file_extension": ".py",
   "mimetype": "text/x-python",
   "name": "python",
   "nbconvert_exporter": "python",
   "pygments_lexer": "ipython3",
   "version": "3.12.4"
  }
 },
 "nbformat": 4,
 "nbformat_minor": 5
}
